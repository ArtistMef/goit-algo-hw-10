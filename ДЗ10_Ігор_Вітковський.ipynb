{
  "nbformat": 4,
  "nbformat_minor": 0,
  "metadata": {
    "colab": {
      "provenance": []
    },
    "kernelspec": {
      "name": "python3",
      "display_name": "Python 3"
    },
    "language_info": {
      "name": "python"
    }
  },
  "cells": [
    {
      "cell_type": "code",
      "source": [
        "!pip install pulp\n"
      ],
      "metadata": {
        "colab": {
          "base_uri": "https://localhost:8080/"
        },
        "id": "6EHcYgtrHjyZ",
        "outputId": "ca538da4-7a9a-466d-a79f-013ef5e0a005"
      },
      "execution_count": 2,
      "outputs": [
        {
          "output_type": "stream",
          "name": "stdout",
          "text": [
            "Collecting pulp\n",
            "  Downloading PuLP-2.8.0-py3-none-any.whl (17.7 MB)\n",
            "\u001b[2K     \u001b[90m━━━━━━━━━━━━━━━━━━━━━━━━━━━━━━━━━━━━━━━━\u001b[0m \u001b[32m17.7/17.7 MB\u001b[0m \u001b[31m56.4 MB/s\u001b[0m eta \u001b[36m0:00:00\u001b[0m\n",
            "\u001b[?25hInstalling collected packages: pulp\n",
            "Successfully installed pulp-2.8.0\n"
          ]
        }
      ]
    },
    {
      "cell_type": "code",
      "execution_count": 3,
      "metadata": {
        "colab": {
          "base_uri": "https://localhost:8080/"
        },
        "id": "2z2MlmZyHD3m",
        "outputId": "a9ecda3b-7865-4eb2-c7a0-37a42eb01b56"
      },
      "outputs": [
        {
          "output_type": "execute_result",
          "data": {
            "text/plain": [
              "(30.0, 20.0, 50.0)"
            ]
          },
          "metadata": {},
          "execution_count": 3
        }
      ],
      "source": [
        "from pulp import LpMaximize, LpProblem, LpVariable\n",
        "\n",
        "model = LpProblem(name=\"optimal-production\", sense=LpMaximize)\n",
        "\n",
        "lemonade = LpVariable(name=\"Лимонад\", lowBound=0, cat='Integer')\n",
        "fruit_juice = LpVariable(name=\"Фруктовий сік\", lowBound=0, cat='Integer')\n",
        "\n",
        "model += (2 * lemonade + fruit_juice <= 100, \"Обмеження-води\")\n",
        "model += (lemonade <= 50, \"Обмеження-цукор\")\n",
        "model += (lemonade <= 30, \"Обмеження-лимонний-сік\")\n",
        "model += (2 * fruit_juice <= 40, \"Обмеження-фрукт-пюре\")\n",
        "\n",
        "model += lemonade + fruit_juice\n",
        "model.solve()\n",
        "\n",
        "lemonade_production = lemonade.value()\n",
        "fruit_juice_production = fruit_juice.value()\n",
        "total_production = lemonade_production + fruit_juice_production\n",
        "\n",
        "lemonade_production, fruit_juice_production, total_production\n"
      ]
    },
    {
      "cell_type": "code",
      "source": [
        "import numpy as np\n",
        "\n",
        "def f(x):\n",
        "    return x ** 2\n",
        "\n",
        "a = 0  # Нижня межа\n",
        "b = 2  # Верхня межа\n",
        "\n",
        "n = 100000\n",
        "x_random = np.random.uniform(a, b, n)\n",
        "y_random = np.random.uniform(0, f(b), n)\n",
        "\n",
        "count_inside = np.sum(y_random <= f(x_random))\n",
        "area = count_inside / n * (b - a) * f(b)\n",
        "\n",
        "print(\"Площа під кривою (за Монте-Карло):\", area)\n",
        "\n",
        "import scipy.integrate as spi\n",
        "\n",
        "result, _ = spi.quad(f, a, b)\n",
        "print(\"Точне значення інтеграла (за quad):\", result)\n"
      ],
      "metadata": {
        "colab": {
          "base_uri": "https://localhost:8080/"
        },
        "id": "5dyyZ1ZwJ6SN",
        "outputId": "56c60cd8-b32e-4667-9de7-db91abb095ff"
      },
      "execution_count": 4,
      "outputs": [
        {
          "output_type": "stream",
          "name": "stdout",
          "text": [
            "Площа під кривою (за Монте-Карло): 2.66144\n",
            "Точне значення інтеграла (за quad): 2.666666666666667\n"
          ]
        }
      ]
    }
  ]
}